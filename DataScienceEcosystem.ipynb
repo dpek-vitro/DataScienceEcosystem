{
 "cells": [
  {
   "cell_type": "markdown",
   "id": "7d16bbad-d81c-4212-8630-fb0b5fbb88c3",
   "metadata": {},
   "source": [
    "# Data Science Tools and Ecosystem"
   ]
  },
  {
   "cell_type": "markdown",
   "id": "ed7d9e96-6c84-48b3-a3b4-c55d2188bb83",
   "metadata": {},
   "source": [
    "In this notebook, Data Science Tools and Ecosystem are summarized."
   ]
  },
  {
   "cell_type": "markdown",
   "id": "a62d67c9-7c15-41c6-a2e7-7c6e065e13ac",
   "metadata": {},
   "source": [
    "**Objectives:**\n",
    "\n",
    "- List popular languages for Data Science.\n",
    "- Summarize commonly used Data Science tools.\n",
    "- Introduce arithmetic expressions in Python.\n",
    "- Convert minutes to hours using Python.\n",
    "- Showcase the usage of comments in code cells."
   ]
  },
  {
   "cell_type": "markdown",
   "id": "cd1805b7-3a88-401b-8281-e5eb66dcf1d5",
   "metadata": {},
   "source": [
    "## Some of the popular languages that Data Scientists use are:\r\n",
    "\r\n",
    "1. Python\r\n",
    "2. R\r\n",
    "3. SQL"
   ]
  },
  {
   "cell_type": "markdown",
   "id": "183eafff-bdb2-44a1-b692-f88bf568f2d4",
   "metadata": {},
   "source": [
    "## Some of the commonly used libraries used by Data Scientists include\n",
    "1. Pandas\n",
    "2. NumPy\n",
    "3. Scikit-learn"
   ]
  },
  {
   "cell_type": "markdown",
   "id": "57d85d5c-d3e6-49d0-bd28-d2fce8468a4c",
   "metadata": {},
   "source": [
    "| Data Science Tools |\n",
    "|--------------------|\n",
    "| Jupyter Notebook   |\n",
    "| RStudio            |\n",
    "| VS Code with Python Extension |"
   ]
  },
  {
   "cell_type": "markdown",
   "id": "afafc5e0-7d16-49a7-8d8a-c313c7187108",
   "metadata": {},
   "source": [
    "### Below are a few examples demonstrating the evaluation of arithmetic expressions using Python.\n"
   ]
  },
  {
   "cell_type": "code",
   "execution_count": 18,
   "id": "21b189f0-c764-4981-ac71-7e2687e798b6",
   "metadata": {},
   "outputs": [
    {
     "data": {
      "text/plain": [
       "17"
      ]
     },
     "execution_count": 18,
     "metadata": {},
     "output_type": "execute_result"
    }
   ],
   "source": [
    "# This is a simple arithmetic expression to multiply then add integers\n",
    "result = (3 * 4) + 5\n",
    "result"
   ]
  },
  {
   "cell_type": "code",
   "execution_count": 19,
   "id": "76ec7372-7ce4-49f6-ba65-437f2b9f1a8f",
   "metadata": {},
   "outputs": [
    {
     "data": {
      "text/plain": [
       "3.3333333333333335"
      ]
     },
     "execution_count": 19,
     "metadata": {},
     "output_type": "execute_result"
    }
   ],
   "source": [
    "# This will convert 200 minutes to hours by dividing by 60\n",
    "minutes = 200\n",
    "hours = minutes / 60\n",
    "hours"
   ]
  },
  {
   "cell_type": "markdown",
   "id": "76c0a522-b5ee-46b9-b7ee-dfbf88459be6",
   "metadata": {},
   "source": [
    "## Author\n",
    "\n",
    "David Perlick"
   ]
  },
  {
   "cell_type": "code",
   "execution_count": null,
   "id": "b248a8d1-55bd-4497-8e48-d45eb0e4ac7e",
   "metadata": {},
   "outputs": [],
   "source": []
  }
 ],
 "metadata": {
  "kernelspec": {
   "display_name": "Python 3 (ipykernel)",
   "language": "python",
   "name": "python3"
  },
  "language_info": {
   "codemirror_mode": {
    "name": "ipython",
    "version": 3
   },
   "file_extension": ".py",
   "mimetype": "text/x-python",
   "name": "python",
   "nbconvert_exporter": "python",
   "pygments_lexer": "ipython3",
   "version": "3.12.0"
  }
 },
 "nbformat": 4,
 "nbformat_minor": 5
}
